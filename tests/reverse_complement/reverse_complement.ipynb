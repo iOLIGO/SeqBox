{
 "cells": [
  {
   "cell_type": "markdown",
   "id": "83b79970-3ae0-4a66-b495-284aa17dafb0",
   "metadata": {},
   "source": [
    "# reverse_complement"
   ]
  },
  {
   "cell_type": "code",
   "execution_count": 1,
   "id": "ba6c304a-ca70-4dd3-90b7-50fb2500aada",
   "metadata": {},
   "outputs": [],
   "source": [
    "from seqbox import SEQ"
   ]
  },
  {
   "cell_type": "code",
   "execution_count": 2,
   "id": "f9b4517c-8047-4b24-9dc4-5cc567ddbefe",
   "metadata": {},
   "outputs": [],
   "source": [
    "seq = SEQ(name=\"test\", stype=\"DNA\")"
   ]
  },
  {
   "cell_type": "code",
   "execution_count": 3,
   "id": "8bd9a6f8-b90c-44d4-afda-65ea72a9bc04",
   "metadata": {},
   "outputs": [
    {
     "data": {
      "text/plain": [
       "'test'"
      ]
     },
     "execution_count": 3,
     "metadata": {},
     "output_type": "execute_result"
    }
   ],
   "source": [
    "seq.name"
   ]
  },
  {
   "cell_type": "code",
   "execution_count": 4,
   "id": "07da7faa-166d-4c36-ae10-73587ba43d6a",
   "metadata": {},
   "outputs": [],
   "source": [
    "seq.seq"
   ]
  },
  {
   "cell_type": "code",
   "execution_count": 5,
   "id": "d828dbab-a06c-40de-8904-1ab50aef3378",
   "metadata": {},
   "outputs": [
    {
     "data": {
      "text/plain": [
       "'DNA'"
      ]
     },
     "execution_count": 5,
     "metadata": {},
     "output_type": "execute_result"
    }
   ],
   "source": [
    "seq.stype"
   ]
  },
  {
   "cell_type": "code",
   "execution_count": 6,
   "id": "ed4be377-9e99-4c86-9fee-4ceb36be3db9",
   "metadata": {},
   "outputs": [
    {
     "data": {
      "text/plain": [
       "{'A': 'T',\n",
       " 'C': 'G',\n",
       " 'T': 'A',\n",
       " 'G': 'C',\n",
       " 'a': 't',\n",
       " 'c': 'g',\n",
       " 't': 'a',\n",
       " 'g': 'c'}"
      ]
     },
     "execution_count": 6,
     "metadata": {},
     "output_type": "execute_result"
    }
   ],
   "source": [
    "seq.dict_base"
   ]
  },
  {
   "cell_type": "code",
   "execution_count": 7,
   "id": "6b86c012-c338-46d1-b1d0-c8061c8dd32c",
   "metadata": {},
   "outputs": [
    {
     "name": "stderr",
     "output_type": "stream",
     "text": [
      "\u001b[32m2024-05-21 14:56:43.870\u001b[0m | \u001b[33m\u001b[1mWARNING \u001b[0m | \u001b[36mseqtools.seq\u001b[0m:\u001b[36mreverse_complement\u001b[0m:\u001b[36m53\u001b[0m - \u001b[33m\u001b[1mnot found params dict_base, use default dict_base\u001b[0m\n"
     ]
    },
    {
     "data": {
      "text/plain": [
       "'TAGCCGAT'"
      ]
     },
     "execution_count": 7,
     "metadata": {},
     "output_type": "execute_result"
    }
   ],
   "source": [
    "seq.reverse_complement(seq=\"ATCGGCTA\")"
   ]
  },
  {
   "cell_type": "code",
   "execution_count": 8,
   "id": "d80cb207-7807-48cd-b1e6-52a0157683c8",
   "metadata": {},
   "outputs": [
    {
     "data": {
      "text/plain": [
       "'ATCGGCTA'"
      ]
     },
     "execution_count": 8,
     "metadata": {},
     "output_type": "execute_result"
    }
   ],
   "source": [
    "seq.seq"
   ]
  },
  {
   "cell_type": "code",
   "execution_count": null,
   "id": "e41736ff-1a5f-4d8d-83c6-b14b7c17736a",
   "metadata": {},
   "outputs": [],
   "source": []
  }
 ],
 "metadata": {
  "kernelspec": {
   "display_name": "Python 3 (ipykernel)",
   "language": "python",
   "name": "python3"
  },
  "language_info": {
   "codemirror_mode": {
    "name": "ipython",
    "version": 3
   },
   "file_extension": ".py",
   "mimetype": "text/x-python",
   "name": "python",
   "nbconvert_exporter": "python",
   "pygments_lexer": "ipython3",
   "version": "3.9.19"
  }
 },
 "nbformat": 4,
 "nbformat_minor": 5
}
