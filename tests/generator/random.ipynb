{
 "cells": [
  {
   "cell_type": "markdown",
   "id": "2f52fba6-2c1c-4ccc-9586-7d7e5507e8f3",
   "metadata": {},
   "source": [
    "# random"
   ]
  },
  {
   "cell_type": "markdown",
   "id": "6984f7e3-b71b-4222-ae1c-49088b5b180b",
   "metadata": {},
   "source": [
    "## API"
   ]
  },
  {
   "cell_type": "code",
   "execution_count": 1,
   "id": "aaf5c9fd-1d3f-4b62-8a9a-38870a8dffb7",
   "metadata": {},
   "outputs": [],
   "source": [
    "from seqbox import SEQ"
   ]
  },
  {
   "cell_type": "code",
   "execution_count": 2,
   "id": "5dfc15a3-399e-49b6-8ce9-3a1e72e698bd",
   "metadata": {},
   "outputs": [],
   "source": [
    "seq = SEQ(name=\"test\")"
   ]
  },
  {
   "cell_type": "code",
   "execution_count": 3,
   "id": "620bc7e0-7830-44e8-9d69-fd6b8d39c7a1",
   "metadata": {},
   "outputs": [
    {
     "data": {
      "text/plain": [
       "'test'"
      ]
     },
     "execution_count": 3,
     "metadata": {},
     "output_type": "execute_result"
    }
   ],
   "source": [
    "seq.name"
   ]
  },
  {
   "cell_type": "code",
   "execution_count": 4,
   "id": "b036fb47-fb0d-4be7-bbf8-851775ad9f35",
   "metadata": {},
   "outputs": [],
   "source": [
    "Grandom = seq.Gseq_random(seq_len=35)"
   ]
  },
  {
   "cell_type": "code",
   "execution_count": 5,
   "id": "3c54e5f8-c9b1-45dc-8dc3-3dc4e91e9337",
   "metadata": {},
   "outputs": [
    {
     "name": "stderr",
     "output_type": "stream",
     "text": [
      "\u001b[32m2024-05-21 15:16:40.176\u001b[0m | \u001b[33m\u001b[1mWARNING \u001b[0m | \u001b[36mseqtools.seq\u001b[0m:\u001b[36mGseq_random\u001b[0m:\u001b[36m150\u001b[0m - \u001b[33m\u001b[1mnot found params char_set, use 'ATCG' with default\u001b[0m\n"
     ]
    },
    {
     "name": "stdout",
     "output_type": "stream",
     "text": [
      "CATCGTGCATAACTCGGTAGACAGGCAAGGCAACG\n",
      "CACTCGGTCTTGCCATGTGTCCTGTAGGTGACTAA\n",
      "AGGAACCCCCGTAGTAGCCCGACAGCAAGGTTCAT\n",
      "AGTGTGGATAAAAGAGCACCCACAGAGGACCAAAA\n",
      "CAAAACGTATGGCACGCTAACCATTTTCTAAACCG\n",
      "GATTTAAGCACAAGACCCTTGTTGGAAAGCAATTC\n",
      "AGGTCAACGGGCATTTAGTTCAGTTCCAGTGACCC\n",
      "ATGACAGGGAGTGTCATCTGAAAGTGCCAACGGGG\n",
      "TAGACTCACTATTATGCCTTCCATTCTCGGAGGTG\n",
      "CCTCACCGTTTCGCGGAACGTTTCAACCAAACTAA\n",
      "TGAGGGTCTACGATAGCTGTCAAGGAAGACCACTT\n"
     ]
    }
   ],
   "source": [
    "n = 0\n",
    "while n <= 10:\n",
    "    seq = next(Grandom)\n",
    "    print(seq)\n",
    "    n = n + 1"
   ]
  },
  {
   "cell_type": "code",
   "execution_count": 7,
   "id": "0075ce0e-35fe-4c3b-8bdb-ef7057b37932",
   "metadata": {},
   "outputs": [],
   "source": [
    "seq = SEQ(name=\"test\")"
   ]
  },
  {
   "cell_type": "code",
   "execution_count": 8,
   "id": "75aefd53-8940-4b77-9e92-e6506e506b33",
   "metadata": {},
   "outputs": [],
   "source": [
    "Grandom_RNA = seq.Gseq_random(seq_len=35, char_set=\"AUCG\")"
   ]
  },
  {
   "cell_type": "code",
   "execution_count": 9,
   "id": "642f4f23-62e3-45d8-b386-98d7d5ce67cf",
   "metadata": {},
   "outputs": [
    {
     "name": "stdout",
     "output_type": "stream",
     "text": [
      "UGAGGACGAGGGCGGUGAUAGGCAUUUUAAUUUGG\n",
      "UUGUUUAUCUAGUCCUCCAGCCUCGGAACCGGAAC\n",
      "GCUACAUUGUCUGCGGGUUUGACAACGACACGGAU\n",
      "CACUGAAGGCUGUUCCCUACUGACUUCGAGGCGCA\n",
      "CGAGACUCUUGAAUGUAUAAAAGGUAAGAUAUAUC\n",
      "GCCUUUUUUCGGGAGUUACUUCGAGUUGUUCAAUC\n",
      "AAGUGUUCCGACCUGAUCCUGCCUCCUGAUCACGU\n",
      "GGGGUGGAUUCUGGUAUAGGUGAGGCUAAUCAGUU\n",
      "CCUAGCACGACCAAGUUCAAUAGAACGAUCAGAGG\n",
      "CGAAUGUACGAGAUCGUCAGGCGGGCCGAUGUUGG\n",
      "AUCUGACCUAGGCCUUGGGAGGGUACCCACAAAAG\n"
     ]
    }
   ],
   "source": [
    "n = 0\n",
    "while n <= 10:\n",
    "    seq = next(Grandom_RNA)\n",
    "    print(seq)\n",
    "    n = n + 1"
   ]
  },
  {
   "cell_type": "markdown",
   "id": "3d2bba2e-1822-4c50-9167-1bda1580ed77",
   "metadata": {},
   "source": [
    "# CLI"
   ]
  },
  {
   "cell_type": "code",
   "execution_count": 1,
   "id": "e707b7a8-b912-431d-87be-5a09dda310df",
   "metadata": {},
   "outputs": [
    {
     "name": "stdout",
     "output_type": "stream",
     "text": [
      "usage: SeqTools [-h] {variation,generator} ...\n",
      "\n",
      "seq tools\n",
      "\n",
      "positional arguments:\n",
      "  {variation,generator}\n",
      "    variation           sequence variation, like: 'SeqTools -vi seq.tsv -vr\n",
      "                        1,17,35, -out variation_seq.tsv'\n",
      "    generator           generator sequence, like: 'SeqTools -gt random -gn\n",
      "                        1000 -gl 70'\n",
      "\n",
      "optional arguments:\n",
      "  -h, --help            show this help message and exit\n"
     ]
    }
   ],
   "source": [
    "!SeqBox -h"
   ]
  },
  {
   "cell_type": "code",
   "execution_count": 1,
   "id": "6761a245-d596-4ddb-a626-87d22772669a",
   "metadata": {},
   "outputs": [
    {
     "name": "stdout",
     "output_type": "stream",
     "text": [
      "usage: SeqBox generator [-h] [-out OUT] [-od OUT_DIR]\n",
      "                        [-gt {random,norepeat,distance}] [-gn GNUMBER]\n",
      "                        [-gts GTIMES] [-gc GCHAR] [-gd GDISTANCE] [-gl GLEN]\n",
      "\n",
      "optional arguments:\n",
      "  -h, --help            show this help message and exit\n",
      "  -out OUT, --out_file OUT\n",
      "                        sequence out file with TSV format\n",
      "  -od OUT_DIR, --out_dir OUT_DIR\n",
      "                        out direction\n",
      "  -gt {random,norepeat,distance}, --gtype {random,norepeat,distance}\n",
      "  -gn GNUMBER, --gnumber GNUMBER\n",
      "                        sequence number\n",
      "  -gts GTIMES, --gtimes GTIMES\n",
      "                        Number of runs\n",
      "  -gc GCHAR, --gchar GCHAR\n",
      "                        generator charset, like: ATCG\n",
      "  -gd GDISTANCE, --gdistance GDISTANCE\n",
      "                        distance\n",
      "  -gl GLEN, --glen GLEN\n",
      "                        generator sequence length\n"
     ]
    }
   ],
   "source": [
    "!SeqBox generator -h"
   ]
  },
  {
   "cell_type": "code",
   "execution_count": 2,
   "id": "11279f69-1f64-493b-bd7e-5a54e1a64d01",
   "metadata": {},
   "outputs": [
    {
     "name": "stdout",
     "output_type": "stream",
     "text": [
      "\u001b[32m2024-05-23 14:26:45.039\u001b[0m | \u001b[33m\u001b[1mWARNING \u001b[0m | \u001b[36mseqbox.seq\u001b[0m:\u001b[36mGseq_random\u001b[0m:\u001b[36m150\u001b[0m - \u001b[33m\u001b[1mnot found params char_set, use 'ATCG' with default\u001b[0m\n"
     ]
    }
   ],
   "source": [
    "!Seqbox generator -gt random -gn 100 -gl 35 -out test_random"
   ]
  }
 ],
 "metadata": {
  "kernelspec": {
   "display_name": "Python 3 (ipykernel)",
   "language": "python",
   "name": "python3"
  },
  "language_info": {
   "codemirror_mode": {
    "name": "ipython",
    "version": 3
   },
   "file_extension": ".py",
   "mimetype": "text/x-python",
   "name": "python",
   "nbconvert_exporter": "python",
   "pygments_lexer": "ipython3",
   "version": "3.9.19"
  }
 },
 "nbformat": 4,
 "nbformat_minor": 5
}
