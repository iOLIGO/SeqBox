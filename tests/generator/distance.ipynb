{
 "cells": [
  {
   "cell_type": "markdown",
   "id": "8f4ff9c9-b14d-4920-8262-f9b5e6d37014",
   "metadata": {},
   "source": [
    "# distance"
   ]
  },
  {
   "cell_type": "markdown",
   "id": "599151f3-c32a-4cf1-a7b5-23ce6ba6817c",
   "metadata": {},
   "source": [
    "## API"
   ]
  },
  {
   "cell_type": "code",
   "execution_count": 3,
   "id": "02b53e4e-4e48-4b04-95fd-b8330886f25f",
   "metadata": {},
   "outputs": [],
   "source": [
    "from seqtools import SEQ"
   ]
  },
  {
   "cell_type": "code",
   "execution_count": 2,
   "id": "a9ceb8ff-33d3-4d53-a1d7-6b3f7fcf3786",
   "metadata": {},
   "outputs": [],
   "source": [
    "seq = SEQ(name=\"test\")"
   ]
  },
  {
   "cell_type": "code",
   "execution_count": 3,
   "id": "b51d9c5d-107c-4328-aa43-6ab61e4fcfd2",
   "metadata": {},
   "outputs": [
    {
     "data": {
      "text/plain": [
       "'test'"
      ]
     },
     "execution_count": 3,
     "metadata": {},
     "output_type": "execute_result"
    }
   ],
   "source": [
    "seq.name"
   ]
  },
  {
   "cell_type": "code",
   "execution_count": 5,
   "id": "95d71d40-d1d2-41ce-9da9-91f34dd4eb72",
   "metadata": {},
   "outputs": [],
   "source": [
    "Gdistance = seq.Gseq_distance(seq_len=35, distance=5)"
   ]
  },
  {
   "cell_type": "code",
   "execution_count": 6,
   "id": "1ea29d7b-3545-4aa7-ad93-b591780675d1",
   "metadata": {},
   "outputs": [
    {
     "name": "stderr",
     "output_type": "stream",
     "text": [
      "\u001b[32m2024-05-21 16:13:45.385\u001b[0m | \u001b[33m\u001b[1mWARNING \u001b[0m | \u001b[36mseqtools.seq\u001b[0m:\u001b[36mGseq_random\u001b[0m:\u001b[36m150\u001b[0m - \u001b[33m\u001b[1mnot found params char_set, use 'ATCG' with default\u001b[0m\n"
     ]
    },
    {
     "name": "stdout",
     "output_type": "stream",
     "text": [
      "CCGAGATAAGATACCGCCGCGGGCAACAGCAACCT\n",
      "TGAACGTACTTTTCGTCCTGGCGTCATGGGCTAGC\n",
      "ACTTAATCTTTGTTTCGACTGTGAGTCACCTATGT\n",
      "ACTGTTTCTCCGAGCACTGTCCAATCGTCTTCCCT\n",
      "CCTTACGTCCCGTTGTGCGTGTCCATTCGGCAACG\n",
      "TAGATTAACTAGCTTGCCGATCGATCAGTTAATTC\n",
      "GGAGACCTCAGCAAAGTTCCGCCTCTAAACAGGTA\n",
      "CCTCTTTAACATATTGCCTAATCACCGTGGGATAT\n",
      "TCGTTAGGAATGTGGACATTTTGAATGGCCAACCT\n",
      "TGAAGTAATATTAATCGAAGTTTATTGAGCTAACC\n",
      "AGTTGACATTAGCACGTGTGGGATGCGGTCCGAAT\n"
     ]
    }
   ],
   "source": [
    "n = 0\n",
    "while n <= 10:\n",
    "    seq = next(Gdistance)\n",
    "    print(seq)\n",
    "    n = n + 1"
   ]
  },
  {
   "cell_type": "code",
   "execution_count": 7,
   "id": "f46d2435-8228-474e-a352-9ab7ec4fd1c1",
   "metadata": {},
   "outputs": [],
   "source": [
    "import Levenshtein"
   ]
  },
  {
   "cell_type": "code",
   "execution_count": 8,
   "id": "de862435-2852-4702-90a2-7681fba6bd96",
   "metadata": {},
   "outputs": [
    {
     "data": {
      "text/plain": [
       "21"
      ]
     },
     "execution_count": 8,
     "metadata": {},
     "output_type": "execute_result"
    }
   ],
   "source": [
    "Levenshtein.distance('CCGAGATAAGATACCGCCGCGGGCAACAGCAACCT', 'TGAACGTACTTTTCGTCCTGGCGTCATGGGCTAGC')"
   ]
  },
  {
   "cell_type": "code",
   "execution_count": 9,
   "id": "8d0c013a-bd9b-4b9e-9272-17dd5d8b7c1a",
   "metadata": {},
   "outputs": [],
   "source": [
    "seq = SEQ(name=\"test\")"
   ]
  },
  {
   "cell_type": "code",
   "execution_count": 11,
   "id": "ba3feb82-7017-45bd-b6a8-a886f393def2",
   "metadata": {},
   "outputs": [],
   "source": [
    "Gdistance_RNA = seq.Gseq_distance(seq_len=35, char_set=\"AUCG\", distance=5)"
   ]
  },
  {
   "cell_type": "code",
   "execution_count": 12,
   "id": "a5e9c8e7-1b9a-4c2d-a000-d61cb84f614d",
   "metadata": {},
   "outputs": [
    {
     "name": "stdout",
     "output_type": "stream",
     "text": [
      "UGUGGCUCCGCACACUGGGCGCUGCCGUGAUGAGA\n",
      "ACUAGCAACGACGUAAUAGGUGCUAAUUUACAGUU\n",
      "CCUCAACGUAGUAGGGAUUCCAGCUCUACGCAUGA\n",
      "CCGCAGACCCAUAGUUAUAUAGCUUCCACUUUUUA\n",
      "CAGAGGUUCUUGCGUCUAAUCUCAUUGCAAGUAAU\n",
      "GCCCAUGGGGUACUCUUGCCCGAUGUUUGACUGUG\n",
      "UCUCCUUCGGGUAGGUGCCACACCGAGCCUUGAGU\n",
      "AACCAGAGAGUGACCAUUUGACAACGCACUACCUU\n",
      "UCACGUCAAGUUAAGCGAGCAAGAGGGCGCGUCGU\n",
      "UAACCUAUGUUCUACUCUUCACUUCUAAGUUAAGG\n",
      "CUUCGACCUCUACAUGAAGGCAAGCUUUGAAGUAU\n"
     ]
    }
   ],
   "source": [
    "n = 0\n",
    "while n <= 10:\n",
    "    seq = next(Gdistance_RNA)\n",
    "    print(seq)\n",
    "    n = n + 1"
   ]
  },
  {
   "cell_type": "markdown",
   "id": "a0b7d752-f637-464d-8ca8-602bf6c0f1df",
   "metadata": {},
   "source": [
    "## CLI"
   ]
  },
  {
   "cell_type": "code",
   "execution_count": 1,
   "id": "418098a0-12c3-4f3f-9d2b-4f993685cf4c",
   "metadata": {},
   "outputs": [
    {
     "name": "stdout",
     "output_type": "stream",
     "text": [
      "usage: SeqTools [-h] {variation,generator} ...\n",
      "\n",
      "seq tools\n",
      "\n",
      "positional arguments:\n",
      "  {variation,generator}\n",
      "    variation           sequence variation, like: 'SeqTools -vi seq.tsv -vr\n",
      "                        1,17,35, -out variation_seq.tsv'\n",
      "    generator           generator sequence, like: 'SeqTools -gt random -gn\n",
      "                        1000 -gl 70'\n",
      "\n",
      "optional arguments:\n",
      "  -h, --help            show this help message and exit\n"
     ]
    }
   ],
   "source": [
    "!SeqTools -h"
   ]
  },
  {
   "cell_type": "code",
   "execution_count": 2,
   "id": "b9028dd3-3955-4bd4-8c6a-5815e52e732a",
   "metadata": {},
   "outputs": [
    {
     "name": "stdout",
     "output_type": "stream",
     "text": [
      "usage: SeqTools generator [-h] [-out OUT] [-od OUT_DIR]\n",
      "                          [-gt {random,norepeat,distance}] [-gn GNUMBER]\n",
      "                          [-gts GTIMES] [-gc GCHAR] [-gd GDISTANCE] [-gl GLEN]\n",
      "\n",
      "optional arguments:\n",
      "  -h, --help            show this help message and exit\n",
      "  -out OUT, --out_file OUT\n",
      "                        sequence out file with TSV format\n",
      "  -od OUT_DIR, --out_dir OUT_DIR\n",
      "                        out direction\n",
      "  -gt {random,norepeat,distance}, --gtype {random,norepeat,distance}\n",
      "  -gn GNUMBER, --gnumber GNUMBER\n",
      "                        sequence number\n",
      "  -gts GTIMES, --gtimes GTIMES\n",
      "                        Number of runs\n",
      "  -gc GCHAR, --gchar GCHAR\n",
      "                        generator charset, like: ATCG\n",
      "  -gd GDISTANCE, --gdistance GDISTANCE\n",
      "                        distance\n",
      "  -gl GLEN, --glen GLEN\n",
      "                        generator sequence length\n"
     ]
    }
   ],
   "source": [
    "!SeqTools generator -h"
   ]
  },
  {
   "cell_type": "code",
   "execution_count": 3,
   "id": "7ca58079-e75f-451b-bec8-dcc14dc9c3bf",
   "metadata": {},
   "outputs": [
    {
     "name": "stdout",
     "output_type": "stream",
     "text": [
      "\u001b[32m2024-05-21 16:24:16.903\u001b[0m | \u001b[33m\u001b[1mWARNING \u001b[0m | \u001b[36mseqtools.seq\u001b[0m:\u001b[36mGseq_random\u001b[0m:\u001b[36m150\u001b[0m - \u001b[33m\u001b[1mnot found params char_set, use 'ATCG' with default\u001b[0m\n"
     ]
    }
   ],
   "source": [
    "!SeqTools generator -gt distance -gn 100 -gl 35 -gd 5 -out test_distance"
   ]
  },
  {
   "cell_type": "markdown",
   "id": "bf2d7171-c3fb-4fcb-b478-780dd3c9ab39",
   "metadata": {},
   "source": [
    "## more"
   ]
  },
  {
   "cell_type": "code",
   "execution_count": 11,
   "id": "7e0ee363-1812-4273-9800-b0316bc2c49d",
   "metadata": {},
   "outputs": [],
   "source": [
    "seq = SEQ(name=\"test\")"
   ]
  },
  {
   "cell_type": "code",
   "execution_count": 13,
   "id": "e9cde318-3566-4b5c-8511-5715973193be",
   "metadata": {},
   "outputs": [],
   "source": [
    "# When the distance is relatively large, it takes too long to obtain a sufficient number of entries. \n",
    "# At this time, set the times parameter to control the number of attempts and avoid too long loops.\n",
    "\n",
    "Gdistance = seq.Gseq_distance(seq_len=35, distance=35, times=10)"
   ]
  },
  {
   "cell_type": "code",
   "execution_count": 14,
   "id": "0b53728d-5865-4c67-924e-655279f7a7c0",
   "metadata": {},
   "outputs": [
    {
     "name": "stderr",
     "output_type": "stream",
     "text": [
      "\u001b[32m2024-05-21 16:31:31.828\u001b[0m | \u001b[33m\u001b[1mWARNING \u001b[0m | \u001b[36mseqtools.seq\u001b[0m:\u001b[36mGseq_random\u001b[0m:\u001b[36m150\u001b[0m - \u001b[33m\u001b[1mnot found params char_set, use 'ATCG' with default\u001b[0m\n"
     ]
    },
    {
     "name": "stdout",
     "output_type": "stream",
     "text": [
      "GGAATATAGCGTTATTCAGACCTAGTAGACAATTC\n"
     ]
    },
    {
     "ename": "StopIteration",
     "evalue": "",
     "output_type": "error",
     "traceback": [
      "\u001b[0;31m---------------------------------------------------------------------------\u001b[0m",
      "\u001b[0;31mStopIteration\u001b[0m                             Traceback (most recent call last)",
      "Cell \u001b[0;32mIn[14], line 3\u001b[0m\n\u001b[1;32m      1\u001b[0m n \u001b[38;5;241m=\u001b[39m \u001b[38;5;241m0\u001b[39m\n\u001b[1;32m      2\u001b[0m \u001b[38;5;28;01mwhile\u001b[39;00m n \u001b[38;5;241m<\u001b[39m \u001b[38;5;241m10\u001b[39m:\n\u001b[0;32m----> 3\u001b[0m     seq \u001b[38;5;241m=\u001b[39m \u001b[38;5;28;43mnext\u001b[39;49m\u001b[43m(\u001b[49m\u001b[43mGdistance\u001b[49m\u001b[43m)\u001b[49m\n\u001b[1;32m      4\u001b[0m     \u001b[38;5;28mprint\u001b[39m(seq)\n\u001b[1;32m      5\u001b[0m     n \u001b[38;5;241m=\u001b[39m n \u001b[38;5;241m+\u001b[39m \u001b[38;5;241m1\u001b[39m\n",
      "\u001b[0;31mStopIteration\u001b[0m: "
     ]
    }
   ],
   "source": [
    "n = 0\n",
    "while n < 10:\n",
    "    seq = next(Gdistance)\n",
    "    print(seq)\n",
    "    n = n + 1"
   ]
  }
 ],
 "metadata": {
  "kernelspec": {
   "display_name": "Python 3 (ipykernel)",
   "language": "python",
   "name": "python3"
  },
  "language_info": {
   "codemirror_mode": {
    "name": "ipython",
    "version": 3
   },
   "file_extension": ".py",
   "mimetype": "text/x-python",
   "name": "python",
   "nbconvert_exporter": "python",
   "pygments_lexer": "ipython3",
   "version": "3.9.19"
  }
 },
 "nbformat": 4,
 "nbformat_minor": 5
}
