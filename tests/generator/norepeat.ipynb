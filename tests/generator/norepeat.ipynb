{
 "cells": [
  {
   "cell_type": "markdown",
   "id": "e359c7f0-d64c-4b8d-8d10-83a201424f05",
   "metadata": {},
   "source": [
    "# norepeat"
   ]
  },
  {
   "cell_type": "markdown",
   "id": "444625cd-60d3-4f5b-a0a1-062170ddbc4d",
   "metadata": {},
   "source": [
    "## API"
   ]
  },
  {
   "cell_type": "code",
   "execution_count": 1,
   "id": "cc0e59ec-2dbb-478a-b256-326d1f2e27a9",
   "metadata": {},
   "outputs": [],
   "source": [
    "from seqtools import SEQ"
   ]
  },
  {
   "cell_type": "code",
   "execution_count": 2,
   "id": "0ebb5562-bd19-4bbe-9bfb-026726fc428d",
   "metadata": {},
   "outputs": [],
   "source": [
    "seq = SEQ(name=\"test\")"
   ]
  },
  {
   "cell_type": "code",
   "execution_count": 3,
   "id": "d0a5dbc8-006e-400b-ae73-55f879761bd3",
   "metadata": {},
   "outputs": [
    {
     "data": {
      "text/plain": [
       "'test'"
      ]
     },
     "execution_count": 3,
     "metadata": {},
     "output_type": "execute_result"
    }
   ],
   "source": [
    "seq.name"
   ]
  },
  {
   "cell_type": "code",
   "execution_count": 4,
   "id": "ca08aefa-1d58-45c5-a11f-03ceaa68e221",
   "metadata": {},
   "outputs": [],
   "source": [
    "Gnorepeat = seq.Gseq_norepeat(seq_len=35)"
   ]
  },
  {
   "cell_type": "code",
   "execution_count": 5,
   "id": "d4dd7321-d3ac-474b-b695-856bfffbe4cb",
   "metadata": {},
   "outputs": [
    {
     "name": "stderr",
     "output_type": "stream",
     "text": [
      "\u001b[32m2024-05-21 16:08:06.289\u001b[0m | \u001b[33m\u001b[1mWARNING \u001b[0m | \u001b[36mseqtools.seq\u001b[0m:\u001b[36mGseq_norepeat\u001b[0m:\u001b[36m177\u001b[0m - \u001b[33m\u001b[1mnot found params char_set, use 'ATCG' with default\u001b[0m\n"
     ]
    },
    {
     "name": "stdout",
     "output_type": "stream",
     "text": [
      "GGTTGTAACAGCGATAACACGGTTTAACGGACCAG\n",
      "GTTAACTCTAACATATACCTCCTTTCTTCGCCACA\n",
      "GCGTCGGATATAGAAGCTTGCGCCCTAATGTTATA\n",
      "AATGCCTTGCTCGATTCAATTAGCTCCCAAACTTT\n",
      "TTGAGAGAGGTCCTGTCGTTCTTATCCTTTCCTAA\n",
      "CGTAACATATAGGATACTTACACGCAGGAGAGTAT\n",
      "CCCACCCTACGCATCCGCCGTCGGTCTGTCGCTAT\n",
      "AACGCGATGTCTAGAAGACCATGTTTCACCTAACT\n",
      "CGGCGGTGGTTATGGGATATGGGGCTCTGAGTGAG\n",
      "GTGCAGCCACGTGAATTTACGTCCTTCGCCGATCC\n",
      "CGGCAAATACTCTTGGATAGAGATTAGCAGCGAGC\n"
     ]
    }
   ],
   "source": [
    "n = 0\n",
    "while n <= 10:\n",
    "    seq = next(Gnorepeat)\n",
    "    print(seq)\n",
    "    n = n + 1"
   ]
  },
  {
   "cell_type": "code",
   "execution_count": 6,
   "id": "d5b93b79-b4cd-4737-acfb-ebf14464e6d6",
   "metadata": {},
   "outputs": [],
   "source": [
    "seq = SEQ(name=\"test\")"
   ]
  },
  {
   "cell_type": "code",
   "execution_count": 8,
   "id": "aab29fcb-3742-4a54-962b-b9068b21b796",
   "metadata": {},
   "outputs": [],
   "source": [
    "Gnorepeat_RNA = seq.Gseq_random(seq_len=35, char_set=\"AUCG\")"
   ]
  },
  {
   "cell_type": "code",
   "execution_count": 9,
   "id": "39be4c48-f828-46d1-9211-80210f71d0e8",
   "metadata": {},
   "outputs": [
    {
     "name": "stdout",
     "output_type": "stream",
     "text": [
      "CGUCUUAAUUAAACCUCGAAUUGGGAGUUGGCUUG\n",
      "CCCAAUCUUCCACUUCUAUAGCGGUAACAUUAAAU\n",
      "UCACAUGCAACUCCACGGAACCAAUUAAACCAGGA\n",
      "GUGGAAAACCACUUCCAGACUGUAAAGCCAAUGGU\n",
      "CUGGACCUACGAUCGCAAAGAUAUAGCUCCUGUAG\n",
      "GAGUUUGGCUAGCAGUAUGAGGAGAUUGCAAAUCU\n",
      "UCGCUCACGGCGAAACAAUUCUGUAUUUGAGAAGG\n",
      "UUAUUCACGAUAUCGGCGGACAGCGAAGGAGUUAU\n",
      "AGGACCCUACAUGACGCACAGAGACCAGGUAUCGG\n",
      "AGUGUGGGCGUCUCCCGAAACGAAUCGCAUUGUUC\n",
      "UUCGUACCGAAGGUUUAGUGGAAUAGGUGGAGAGU\n"
     ]
    }
   ],
   "source": [
    "n = 0\n",
    "while n <= 10:\n",
    "    seq = next(Gnorepeat_RNA)\n",
    "    print(seq)\n",
    "    n = n + 1"
   ]
  },
  {
   "cell_type": "markdown",
   "id": "aaa7a22c-99e8-4a35-87d7-7ad667430723",
   "metadata": {},
   "source": [
    "## CLI"
   ]
  },
  {
   "cell_type": "code",
   "execution_count": 10,
   "id": "b50861b9-c580-4a8e-8d2f-0be66c79f81f",
   "metadata": {},
   "outputs": [
    {
     "name": "stdout",
     "output_type": "stream",
     "text": [
      "usage: SeqTools [-h] {variation,generator} ...\n",
      "\n",
      "seq tools\n",
      "\n",
      "positional arguments:\n",
      "  {variation,generator}\n",
      "    variation           sequence variation, like: 'SeqTools -vi seq.tsv -vr\n",
      "                        1,17,35, -out variation_seq.tsv'\n",
      "    generator           generator sequence, like: 'SeqTools -gt random -gn\n",
      "                        1000 -gl 70'\n",
      "\n",
      "optional arguments:\n",
      "  -h, --help            show this help message and exit\n"
     ]
    }
   ],
   "source": [
    "!SeqTools -h"
   ]
  },
  {
   "cell_type": "code",
   "execution_count": 11,
   "id": "80b60307-f3e5-40c3-a1c2-817d7bddc6c7",
   "metadata": {},
   "outputs": [
    {
     "name": "stdout",
     "output_type": "stream",
     "text": [
      "usage: SeqTools generator [-h] [-out OUT] [-od OUT_DIR]\n",
      "                          [-gt {random,norepeat,distance}] [-gn GNUMBER]\n",
      "                          [-gts GTIMES] [-gc GCHAR] [-gd GDISTANCE] [-gl GLEN]\n",
      "\n",
      "optional arguments:\n",
      "  -h, --help            show this help message and exit\n",
      "  -out OUT, --out_file OUT\n",
      "                        sequence out file with TSV format\n",
      "  -od OUT_DIR, --out_dir OUT_DIR\n",
      "                        out direction\n",
      "  -gt {random,norepeat,distance}, --gtype {random,norepeat,distance}\n",
      "  -gn GNUMBER, --gnumber GNUMBER\n",
      "                        sequence number\n",
      "  -gts GTIMES, --gtimes GTIMES\n",
      "                        Number of runs\n",
      "  -gc GCHAR, --gchar GCHAR\n",
      "                        generator charset, like: ATCG\n",
      "  -gd GDISTANCE, --gdistance GDISTANCE\n",
      "                        distance\n",
      "  -gl GLEN, --glen GLEN\n",
      "                        generator sequence length\n"
     ]
    }
   ],
   "source": [
    "!SeqTools generator -h"
   ]
  },
  {
   "cell_type": "code",
   "execution_count": 12,
   "id": "0a498f40-9472-4f88-b92d-87a8bb7929a6",
   "metadata": {},
   "outputs": [
    {
     "name": "stdout",
     "output_type": "stream",
     "text": [
      "\u001b[32m2024-05-21 16:10:32.427\u001b[0m | \u001b[33m\u001b[1mWARNING \u001b[0m | \u001b[36mseqtools.seq\u001b[0m:\u001b[36mGseq_norepeat\u001b[0m:\u001b[36m177\u001b[0m - \u001b[33m\u001b[1mnot found params char_set, use 'ATCG' with default\u001b[0m\n"
     ]
    }
   ],
   "source": [
    "!SeqTools generator -gt norepeat -gn 100 -gl 35 -out test_norepeat"
   ]
  }
 ],
 "metadata": {
  "kernelspec": {
   "display_name": "Python 3 (ipykernel)",
   "language": "python",
   "name": "python3"
  },
  "language_info": {
   "codemirror_mode": {
    "name": "ipython",
    "version": 3
   },
   "file_extension": ".py",
   "mimetype": "text/x-python",
   "name": "python",
   "nbconvert_exporter": "python",
   "pygments_lexer": "ipython3",
   "version": "3.9.19"
  }
 },
 "nbformat": 4,
 "nbformat_minor": 5
}
