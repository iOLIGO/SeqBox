{
 "cells": [
  {
   "cell_type": "markdown",
   "id": "5b635f04-e4ec-49c2-993a-9177e8b75787",
   "metadata": {},
   "source": [
    "# variation"
   ]
  },
  {
   "cell_type": "markdown",
   "id": "fbfa1d04-291b-4821-b3b6-6c8220656414",
   "metadata": {},
   "source": [
    "## API"
   ]
  },
  {
   "cell_type": "code",
   "execution_count": 1,
   "id": "fac9f591-8f71-4e00-8591-d6820815aa4b",
   "metadata": {},
   "outputs": [],
   "source": [
    "from seqtools import SEQ"
   ]
  },
  {
   "cell_type": "code",
   "execution_count": 2,
   "id": "d3fbfee4-c292-414d-af4c-1152ab092c83",
   "metadata": {},
   "outputs": [],
   "source": [
    "seq = SEQ(name=\"test\")"
   ]
  },
  {
   "cell_type": "code",
   "execution_count": 3,
   "id": "72925c65-2188-4cd0-a211-7d15688bf9c6",
   "metadata": {},
   "outputs": [
    {
     "data": {
      "text/plain": [
       "'test'"
      ]
     },
     "execution_count": 3,
     "metadata": {},
     "output_type": "execute_result"
    }
   ],
   "source": [
    "seq.name"
   ]
  },
  {
   "cell_type": "code",
   "execution_count": 4,
   "id": "bd3d0f34-754f-4aba-a57d-eba97ea690e2",
   "metadata": {},
   "outputs": [
    {
     "name": "stderr",
     "output_type": "stream",
     "text": [
      "\u001b[32m2024-05-21 16:44:48.188\u001b[0m | \u001b[33m\u001b[1mWARNING \u001b[0m | \u001b[36mseqtools.seq\u001b[0m:\u001b[36mvariation\u001b[0m:\u001b[36m118\u001b[0m - \u001b[33m\u001b[1mnot found params dict_base, use default dict_base\u001b[0m\n"
     ]
    },
    {
     "data": {
      "text/plain": [
       "'ATCGTCGTAGTCGTAGCTAGTCGTAGTAGCTAGT,ACGTCGTAGTCGTACTAGTCGTAGTAGCTAGT,ATCGTCGTAGTGTAGTAGTCGTAGTAGCTAT'"
      ]
     },
     "execution_count": 4,
     "metadata": {},
     "output_type": "execute_result"
    }
   ],
   "source": [
    "seq.variation(replaces=\"1,2,3\", seq=\"ATCGTCGTAGTCGTAGCTAGTCGTAGTAGCTAGT\")"
   ]
  },
  {
   "cell_type": "markdown",
   "id": "71a4b76a-b807-4972-bb1a-3e7f36638784",
   "metadata": {},
   "source": [
    "## CLI"
   ]
  },
  {
   "cell_type": "code",
   "execution_count": 5,
   "id": "afa84002-e4a3-436e-9c3a-d20aed96ff38",
   "metadata": {},
   "outputs": [
    {
     "name": "stdout",
     "output_type": "stream",
     "text": [
      "usage: SeqTools [-h] {variation,generator} ...\n",
      "\n",
      "seq tools\n",
      "\n",
      "positional arguments:\n",
      "  {variation,generator}\n",
      "    variation           sequence variation, like: 'SeqTools -vi seq.tsv -vr\n",
      "                        1,17,35, -out variation_seq.tsv'\n",
      "    generator           generator sequence, like: 'SeqTools -gt random -gn\n",
      "                        1000 -gl 70'\n",
      "\n",
      "optional arguments:\n",
      "  -h, --help            show this help message and exit\n"
     ]
    }
   ],
   "source": [
    "! SeqTools -h"
   ]
  },
  {
   "cell_type": "code",
   "execution_count": 6,
   "id": "064606cc-5131-4f2d-b6a5-c5ce949de566",
   "metadata": {},
   "outputs": [
    {
     "name": "stdout",
     "output_type": "stream",
     "text": [
      "usage: SeqTools variation [-h] [-out OUT] [-od OUT_DIR] [-vi VIN]\n",
      "                          [-vr VREPLACE] [-vd VDICT]\n",
      "\n",
      "optional arguments:\n",
      "  -h, --help            show this help message and exit\n",
      "  -out OUT, --out_file OUT\n",
      "                        sequence out file with TSV format\n",
      "  -od OUT_DIR, --out_dir OUT_DIR\n",
      "                        out direction\n",
      "  -vi VIN, --vinfile VIN\n",
      "  -vr VREPLACE, --vreplace VREPLACE\n",
      "                        replace base number, like: 1,2,3\n",
      "  -vd VDICT, --vdict VDICT\n",
      "                        variation dict, like: '1:A-2:T-3:C-4:G'\n"
     ]
    }
   ],
   "source": [
    "! SeqTools variation -h "
   ]
  },
  {
   "cell_type": "code",
   "execution_count": 1,
   "id": "9f1e3fb5-e85d-4192-b8be-f795dcd70de8",
   "metadata": {},
   "outputs": [
    {
     "name": "stdout",
     "output_type": "stream",
     "text": [
      "\u001b[32m2024-05-21 16:53:02.955\u001b[0m | \u001b[33m\u001b[1mWARNING \u001b[0m | \u001b[36m__main__\u001b[0m:\u001b[36mrun\u001b[0m:\u001b[36m49\u001b[0m - \u001b[33m\u001b[1mnot found params variation dict, use default variation dict\u001b[0m\n"
     ]
    }
   ],
   "source": [
    "! SeqTools variation -vi test.tsv -out test_variation -vr 1,2,3"
   ]
  }
 ],
 "metadata": {
  "kernelspec": {
   "display_name": "Python 3 (ipykernel)",
   "language": "python",
   "name": "python3"
  },
  "language_info": {
   "codemirror_mode": {
    "name": "ipython",
    "version": 3
   },
   "file_extension": ".py",
   "mimetype": "text/x-python",
   "name": "python",
   "nbconvert_exporter": "python",
   "pygments_lexer": "ipython3",
   "version": "3.9.19"
  }
 },
 "nbformat": 4,
 "nbformat_minor": 5
}
